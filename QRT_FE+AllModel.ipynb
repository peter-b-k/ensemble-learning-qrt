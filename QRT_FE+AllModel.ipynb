{
  "nbformat": 4,
  "nbformat_minor": 0,
  "metadata": {
    "colab": {
      "provenance": [],
      "collapsed_sections": [
        "6jnA2yWyG1zZ",
        "A416DiMZbLGa",
        "_bqUM-eqbWfQ",
        "PWU64xvHesJg",
        "N0okOcHtetpV",
        "kL5Sme2eo1LS",
        "zG2qFffxGp1e",
        "zXKPupR3Gv-e",
        "F4UM48pSpKd8"
      ],
      "toc_visible": true
    },
    "kernelspec": {
      "name": "python3",
      "display_name": "Python 3"
    },
    "language_info": {
      "name": "python"
    }
  },
  "cells": [
    {
      "cell_type": "markdown",
      "source": [
        "# 1 Library"
      ],
      "metadata": {
        "id": "G8V9YOy-GaBe"
      }
    },
    {
      "cell_type": "code",
      "source": [
        "import pandas as pd\n",
        "import numpy as np\n",
        "import matplotlib.pyplot as plt\n",
        "from scipy import stats\n",
        "from sklearn.preprocessing import StandardScaler, OneHotEncoder\n",
        "from sklearn.impute import KNNImputer"
      ],
      "metadata": {
        "id": "doYO1se7HA52"
      },
      "execution_count": 3,
      "outputs": []
    },
    {
      "cell_type": "markdown",
      "source": [
        "# 2 Loading the Data & Preprocessing"
      ],
      "metadata": {
        "id": "6jnA2yWyG1zZ"
      }
    },
    {
      "cell_type": "code",
      "source": [
        "# trim tail: to reduce the influence of extreme values\n",
        "def trim_tail(data, lower_percentile, upper_percentile):\n",
        "  low, high = np.percentile(data, [lower_percentile, upper_percentile])\n",
        "  return np.clip(data, low, high)\n",
        "\n",
        "def do_knn_impute(train_data, test_data, neighbors):\n",
        "  # knn impute\n",
        "  knn_imputer     = KNNImputer(n_neighbors=neighbors)\n",
        "  train_data_filled  = knn_imputer.fit_transform(train_data)\n",
        "  test_data_filled   = knn_imputer.transform(test_data)\n",
        "\n",
        "  # transform to df\n",
        "  columns_lst       = list(train_data.columns)\n",
        "  train_data     = pd.DataFrame(train_data_filled, columns = columns_lst, index=train_data.index)\n",
        "  test_data      = pd.DataFrame(test_data_filled, columns = columns_lst, index=test_data.index)\n",
        "  return train_data, test_data\n",
        "\n",
        "# load_preprocess:\n",
        "#  1. load the data\n",
        "#  2. Split the DE & FR\n",
        "#  3. KNN imputer\n",
        "#  4. trim tail on certain features\n",
        "def load_preprocess(separate_country=False):\n",
        "  # 1. Load train and set\n",
        "  X_train     = pd.read_csv('X_train.csv', index_col='ID').drop(columns=[\"DAY_ID\"])\n",
        "  Y_train     = pd.read_csv('y_train.csv', index_col='ID')\n",
        "  X_test      = pd.read_csv('X_test.csv', index_col='ID').drop(columns=[\"DAY_ID\"])\n",
        "  Y_test      = pd.read_csv('y_test_random_final.csv', index_col='ID')\n",
        "\n",
        "  if separate_country:\n",
        "      #   Join features and target for preprocessing\n",
        "      train_df    = X_train.join(Y_train)\n",
        "      test_df     = X_test.join(Y_test)\n",
        "\n",
        "      # 2. Split training data into DE and FR datasets | trim tail\n",
        "      train_fr    = train_df[train_df.COUNTRY=='FR'].sort_index().drop(columns=[\"COUNTRY\"])\n",
        "      train_de    = train_df[train_df.COUNTRY=='DE'].sort_index().drop(columns=[\"COUNTRY\"])\n",
        "\n",
        "      #   Split test data into DE and FR datasets | trim tail\n",
        "      test_fr     = test_df[test_df.COUNTRY=='FR'].sort_index().drop(columns=[\"COUNTRY\"])\n",
        "      test_de     = test_df[test_df.COUNTRY=='DE'].sort_index().drop(columns=[\"COUNTRY\"])\n",
        "\n",
        "      # 3. KNN imputer\n",
        "      print(\"KNN imputer started ...\")\n",
        "      train_fr, test_fr = do_knn_impute(train_fr, test_fr, 5)\n",
        "      train_de, test_de = do_knn_impute(train_de, test_de, 5)\n",
        "      print(\"KNN imputer end ! \")\n",
        "\n",
        "      # 4. trim tail\n",
        "      #   Choose the features that contain outliers\n",
        "      trim_list = ['DE_CONSUMPTION', 'FR_CONSUMPTION',\n",
        "      'DE_FR_EXCHANGE', 'FR_DE_EXCHANGE', 'DE_NET_EXPORT', 'FR_NET_EXPORT',\n",
        "      'DE_NET_IMPORT', 'FR_NET_IMPORT','DE_RESIDUAL_LOAD', 'FR_RESIDUAL_LOAD']\n",
        "      print(\"Trim tail started, on columns: {}\".format(trim_list))\n",
        "\n",
        "      #   Trim the train data for FR & DE\n",
        "      trimmed_train_fr = trim_tail(train_fr[trim_list], 1, 99)\n",
        "      trimmed_train_de = trim_tail(train_de[trim_list], 1, 99)\n",
        "      trimmed_test_fr  = trim_tail(test_fr[trim_list], 1, 99)\n",
        "      trimmed_test_de  = trim_tail(test_de[trim_list], 1, 99)\n",
        "\n",
        "      #   replace original features with trimed features\n",
        "      train_fr[trim_list] = trimmed_train_fr\n",
        "      train_de[trim_list] = trimmed_train_de\n",
        "      test_fr[trim_list] = trimmed_test_fr\n",
        "      test_de[trim_list] = trimmed_test_de\n",
        "\n",
        "      #   seperate the features and target\n",
        "      X_train_fr  = train_fr.drop(columns=['TARGET'])\n",
        "      X_train_de  = train_de.drop(columns=['TARGET'])\n",
        "      Y_train_fr  = train_fr[['TARGET']]\n",
        "      Y_train_de  = train_de[['TARGET']]\n",
        "\n",
        "      X_test_fr  = test_fr.drop(columns=['TARGET'])\n",
        "      X_test_de  = test_de.drop(columns=['TARGET'])\n",
        "      Y_test_fr  = test_fr[['TARGET']]\n",
        "      Y_test_de  = test_de[['TARGET']]\n",
        "      print(\"Proprocessing finished !\")\n",
        "\n",
        "      return [X_train_fr, Y_train_fr, X_train_de, Y_train_de, X_test_fr, Y_test_fr, X_test_de, Y_test_de]\n",
        "\n",
        "  # If NOT separate country then return full train and test data\n",
        "  else:\n",
        "      ohc         = OneHotEncoder(drop='first')\n",
        "      X_train['COUNTRY']  = ohc.fit_transform(X_train.COUNTRY.values.reshape(-1,1)).toarray()\n",
        "      X_test['COUNTRY']   = ohc.fit_transform(X_test.COUNTRY.values.reshape(-1,1)).toarray()\n",
        "\n",
        "      return X_train, Y_train, X_test, Y_test"
      ],
      "metadata": {
        "id": "5L8G_BEgGoyf"
      },
      "execution_count": 28,
      "outputs": []
    },
    {
      "cell_type": "markdown",
      "source": [
        "## Seperate FR & DE"
      ],
      "metadata": {
        "id": "u1mNBfbjFzMN"
      }
    },
    {
      "cell_type": "code",
      "source": [
        "X_train_fr, Y_train_fr, X_train_de, Y_train_de, X_test_fr, Y_test_fr, X_test_de, Y_test_de = load_preprocess(separate_country=True)"
      ],
      "metadata": {
        "colab": {
          "base_uri": "https://localhost:8080/"
        },
        "id": "tRywwkaXVfOd",
        "outputId": "55442da3-272f-44a6-81aa-95828d2b264b"
      },
      "execution_count": 29,
      "outputs": [
        {
          "output_type": "stream",
          "name": "stdout",
          "text": [
            "KNN imputer started ...\n",
            "KNN imputer end ! \n",
            "Trim tail started, on columns: ['DE_CONSUMPTION', 'FR_CONSUMPTION', 'DE_FR_EXCHANGE', 'FR_DE_EXCHANGE', 'DE_NET_EXPORT', 'FR_NET_EXPORT', 'DE_NET_IMPORT', 'FR_NET_IMPORT', 'DE_RESIDUAL_LOAD', 'FR_RESIDUAL_LOAD']\n",
            "Proprocessing finished !\n"
          ]
        }
      ]
    },
    {
      "cell_type": "markdown",
      "source": [
        "## Not Seperate FR & DE"
      ],
      "metadata": {
        "id": "Qbz0p0c-F3RS"
      }
    },
    {
      "cell_type": "code",
      "source": [
        "X_train, Y_train, X_test, Y_test = load_preprocess(separate_country=False)"
      ],
      "metadata": {
        "id": "gcYY9A60F7qr"
      },
      "execution_count": 30,
      "outputs": []
    },
    {
      "cell_type": "markdown",
      "source": [
        "# 3 Featur Engineering"
      ],
      "metadata": {
        "id": "y2Kk6TFBGmSf"
      }
    },
    {
      "cell_type": "markdown",
      "source": [
        "## 3.1 Lag items:  built in-week lag items for DE & FR seperately"
      ],
      "metadata": {
        "id": "A416DiMZbLGa"
      }
    },
    {
      "cell_type": "code",
      "source": [
        "from pandas.errors import PerformanceWarning\n",
        "import warnings\n",
        "\n",
        "warnings.filterwarnings('ignore', category=PerformanceWarning)\n",
        "\n",
        "def add_lagged_features(df):\n",
        "    cols = ['DE_CONSUMPTION', 'FR_CONSUMPTION', 'DE_NET_EXPORT', 'FR_NET_EXPORT',\n",
        "    'DE_RESIDUAL_LOAD', 'FR_RESIDUAL_LOAD', 'GAS_RET', 'COAL_RET', 'CARBON_RET']\n",
        "\n",
        "    lagged_features = pd.DataFrame(index=df.index)\n",
        "    for col in cols:\n",
        "        for i in range(1, 5):\n",
        "            lagged_col_name = f'{col}_LAG{i}'\n",
        "            lagged_features[lagged_col_name] = df[col].shift(i)\n",
        "\n",
        "    df = pd.concat([df, lagged_features], axis=1)\n",
        "    df.fillna(df.mean(), inplace=True)\n",
        "\n",
        "    return df"
      ],
      "metadata": {
        "id": "e0CnrKWJVbj1"
      },
      "execution_count": 31,
      "outputs": []
    },
    {
      "cell_type": "markdown",
      "source": [
        "## 3.2 Consumption Inspirations"
      ],
      "metadata": {
        "id": "_bqUM-eqbWfQ"
      }
    },
    {
      "cell_type": "code",
      "source": [
        "def consumption_insp(df):\n",
        "  # average commodity price variations\n",
        "  df['avg_c_p_v']    = df[['GAS_RET', 'COAL_RET',\t'CARBON_RET']].sum(axis=1).mean()\n",
        "  df['avg_c_p_v_ma5']  = df['avg_c_p_v'].rolling(window=5).mean()\n",
        "  df['avg_c_p_v_ma10']  = df['avg_c_p_v'].rolling(window=10).mean()\n",
        "\n",
        "  # nuclear ratio trend\n",
        "  epsilon = 1e-8\n",
        "  df['nuclear_ratio_fr'] = df['FR_NUCLEAR'] / (df[['FR_GAS', 'FR_COAL', 'FR_HYDRO', 'FR_NUCLEAR', 'FR_SOLAR', 'FR_WINDPOW']].sum(axis=1) + epsilon)\n",
        "  df['nuclear_ratio_de'] = df['DE_NUCLEAR'] / (df[['DE_GAS', 'DE_COAL', 'DE_HYDRO', 'DE_NUCLEAR', 'DE_SOLAR', 'DE_WINDPOW']].sum(axis=1) + epsilon)\n",
        "\n",
        "  # new energy transform efficency\n",
        "  df['hydro_rain_fr'] = df['FR_HYDRO'] / (df['FR_RAIN'].rolling(window=5).mean() + epsilon)\n",
        "  df['hydro_rain_de'] = df['DE_HYDRO'] / (df['DE_RAIN'].rolling(window=5).mean() + epsilon)\n",
        "\n",
        "  df['wind_windpow_fr'] = df['FR_WINDPOW'] / (df['FR_WIND'].rolling(window=2).mean() + epsilon)\n",
        "  df['wind_windpow_de'] = df['DE_WINDPOW'] / (df['DE_WIND'].rolling(window=2).mean() + epsilon)\n",
        "\n",
        "  # residual_load premium cost\n",
        "  df['load_premium_cost_fr']  = df['FR_RESIDUAL_LOAD'] * (df['avg_c_p_v'] + epsilon)\n",
        "  df['load_premium_cost_de']  = df['DE_RESIDUAL_LOAD'] * (df['avg_c_p_v'] + epsilon)\n",
        "  df['import_cost_fr']  = df['FR_NET_IMPORT'] * (df['avg_c_p_v'] + epsilon)\n",
        "  df['import_cost_de']  = df['DE_NET_IMPORT'] * (df['avg_c_p_v'] + epsilon)\n",
        "\n",
        "  # standerdize the new features\n",
        "  features_to_scale = ['hydro_rain_fr', 'hydro_rain_de', 'wind_windpow_fr', 'wind_windpow_de',\n",
        "             'load_premium_cost_fr', 'load_premium_cost_de', 'import_cost_fr', 'import_cost_de']\n",
        "  # initialize scaler\n",
        "  scaler = StandardScaler()\n",
        "  df[features_to_scale] = scaler.fit_transform(df[features_to_scale])\n",
        "  df.fillna(df.mean(), inplace=True)\n",
        "\n",
        "  return df"
      ],
      "metadata": {
        "id": "vb4qSWJpCYMj"
      },
      "execution_count": 32,
      "outputs": []
    },
    {
      "cell_type": "markdown",
      "source": [
        "# Seperated DE & FR data for Next Modeling\n"
      ],
      "metadata": {
        "id": "_k8jzEpJeiVF"
      }
    },
    {
      "cell_type": "markdown",
      "source": [
        "## FR"
      ],
      "metadata": {
        "id": "PWU64xvHesJg"
      }
    },
    {
      "cell_type": "code",
      "source": [
        "X_train_fr = add_lagged_features(X_train_fr)\n",
        "X_test_fr = add_lagged_features(X_test_fr)\n",
        "X_train_fr = consumption_insp(X_train_fr)\n",
        "X_test_fr = consumption_insp(X_test_fr)\n",
        "\n",
        "Y_train_fr\n",
        "Y_test_fr"
      ],
      "metadata": {
        "id": "OnK1FL7ICMxq"
      },
      "execution_count": null,
      "outputs": []
    },
    {
      "cell_type": "markdown",
      "source": [
        "## DE"
      ],
      "metadata": {
        "id": "N0okOcHtetpV"
      }
    },
    {
      "cell_type": "code",
      "source": [
        "X_train_de = add_lagged_features(X_train_de)\n",
        "X_test_de = add_lagged_features(X_test_de)\n",
        "X_train_de = consumption_insp(X_train_de)\n",
        "X_test_de = consumption_insp(X_test_de)\n",
        "\n",
        "Y_train_de\n",
        "Y_test_de"
      ],
      "metadata": {
        "id": "83SM1WWoeuxT"
      },
      "execution_count": null,
      "outputs": []
    },
    {
      "cell_type": "markdown",
      "source": [
        "## Not Seperate"
      ],
      "metadata": {
        "id": "QDBNweEZpSRB"
      }
    },
    {
      "cell_type": "code",
      "source": [
        "X_train = add_lagged_features(X_train)\n",
        "X_test = add_lagged_features(X_test)\n",
        "X_train = consumption_insp(X_train)\n",
        "X_test = consumption_insp(X_test)\n",
        "\n",
        "Y_train\n",
        "Y_test"
      ],
      "metadata": {
        "id": "2jL-NSurpjDY"
      },
      "execution_count": null,
      "outputs": []
    },
    {
      "cell_type": "markdown",
      "source": [
        "# Modeling ToolKit"
      ],
      "metadata": {
        "id": "kL5Sme2eo1LS"
      }
    },
    {
      "cell_type": "code",
      "source": [
        "import numpy as np\n",
        "import pandas as pd\n",
        "from sklearn.model_selection import train_test_split, GridSearchCV\n",
        "from sklearn.tree import DecisionTreeRegressor\n",
        "from sklearn.ensemble import RandomForestRegressor\n",
        "from sklearn.metrics import mean_squared_error, mean_absolute_error\n",
        "from scipy.stats import spearmanr\n",
        "\n",
        "def metric_kit(y_test, y_pred):\n",
        "  # show the MSE\n",
        "  mse = mean_squared_error(y_test, y_pred)\n",
        "  print(f\" MSE: {mse}\")\n",
        "\n",
        "  # show the MAE\n",
        "  mse = mean_absolute_error(y_test, y_pred)\n",
        "  print(f\" MAE: {mse}\")\n",
        "\n",
        "  # show the spearmanr\n",
        "  spear = spearmanr(y_test, y_pred).correlation\n",
        "  print('Spearman correlation - default: {:.1f}%'.format(100 * spear))\n",
        "\n",
        "def modeling_pipeline(X_train, Y_train, model_regressor, param_grid):\n",
        "  # train valid set split\n",
        "  X_train, X_val, y_train, y_val = train_test_split(X_train, Y_train, test_size=0.2, random_state=2024)\n",
        "\n",
        "  # model define\n",
        "  model = model_regressor\n",
        "\n",
        "  # hyperparameter tuning\n",
        "  grid_search = GridSearchCV(model, param_grid, scoring='neg_mean_squared_error', cv=5, n_jobs=-1)\n",
        "  grid_search.fit(X_train, y_train)\n",
        "\n",
        "  # get the best parameters\n",
        "  print(f\"best_params: {grid_search.best_params_}\")\n",
        "\n",
        "  # use best parameter to predict\n",
        "  best_model = grid_search.best_estimator_\n",
        "  y_pred_best = best_model.predict(X_val)\n",
        "\n",
        "  # show the metrics\n",
        "  metric_kit(y_val, y_pred_best)\n",
        "\n",
        "  return best_model"
      ],
      "metadata": {
        "id": "4GvsBgZuGvXg"
      },
      "execution_count": 35,
      "outputs": []
    },
    {
      "cell_type": "markdown",
      "source": [
        "# 4 Decision Tree Modeling"
      ],
      "metadata": {
        "id": "zG2qFffxGp1e"
      }
    },
    {
      "cell_type": "code",
      "source": [
        "model_regressor = DecisionTreeRegressor(random_state=2024)\n",
        "param_grid = {\n",
        "    'criterion': ['squared_error', 'friedman_mse', 'absolute_error'],  # 对于较新版本的scikit-learn\n",
        "    'max_depth': [None, 10, 20, 30],\n",
        "    'min_samples_split': [2, 5, 10],\n",
        "    'min_samples_leaf': [1, 2, 4]\n",
        "}\n",
        "model_fr = modeling_pipeline(X_train_fr, Y_train_fr, model_regressor, param_grid)\n",
        "\n",
        "model_regressor = DecisionTreeRegressor(random_state=2024)\n",
        "model_de = modeling_pipeline(X_train_de, Y_train_de, model_regressor, param_grid)"
      ],
      "metadata": {
        "colab": {
          "base_uri": "https://localhost:8080/"
        },
        "id": "0BILRZVAhJ4-",
        "outputId": "0bd438ef-fb08-4aea-ae53-92dd8a3245f0"
      },
      "execution_count": 36,
      "outputs": [
        {
          "output_type": "stream",
          "name": "stdout",
          "text": [
            "best_params: {'criterion': 'absolute_error', 'max_depth': 10, 'min_samples_leaf': 4, 'min_samples_split': 10}\n",
            " MSE: 1.1148123404153867\n",
            " MAE: 0.5510857896134241\n",
            "Spearman correlation - default: 21.7%\n",
            "best_params: {'criterion': 'absolute_error', 'max_depth': 10, 'min_samples_leaf': 2, 'min_samples_split': 10}\n",
            " MSE: 0.9808938504781785\n",
            " MAE: 0.6362261728323381\n",
            "Spearman correlation - default: 43.5%\n"
          ]
        }
      ]
    },
    {
      "cell_type": "code",
      "source": [
        "param_grid = {\n",
        "    'criterion': ['squared_error', 'friedman_mse', 'absolute_error'],  # 对于较新版本的scikit-learn\n",
        "    'max_depth': [None, 10, 20, 30],\n",
        "    'min_samples_split': [2, 5, 10],\n",
        "    'min_samples_leaf': [1, 2, 4]\n",
        "}\n",
        "model_regressor = DecisionTreeRegressor(random_state=2024)\n",
        "model = modeling_pipeline(X_train, Y_train, model_regressor, param_grid)"
      ],
      "metadata": {
        "colab": {
          "base_uri": "https://localhost:8080/"
        },
        "id": "E5P87uXHqOTN",
        "outputId": "75f5c057-8a7b-4232-8096-2ecab4a7a28a"
      },
      "execution_count": 45,
      "outputs": [
        {
          "output_type": "stream",
          "name": "stdout",
          "text": [
            "best_params: {'criterion': 'absolute_error', 'max_depth': 10, 'min_samples_leaf': 4, 'min_samples_split': 10}\n",
            " MSE: 1.4075318814209123\n",
            " MAE: 0.6865750418754671\n",
            "Spearman correlation - default: -1.8%\n"
          ]
        }
      ]
    },
    {
      "cell_type": "markdown",
      "source": [
        "# 5 Random Forest Modeling"
      ],
      "metadata": {
        "id": "zXKPupR3Gv-e"
      }
    },
    {
      "cell_type": "code",
      "source": [
        "model_regressor = RandomForestRegressor(random_state=2024)\n",
        "param_grid = {\n",
        "    'n_estimators': [100],\n",
        "    'max_depth': [None, 15, 25],\n",
        "    'min_samples_split': [2, 5],\n",
        "    'min_samples_leaf': [1, 4]\n",
        "}\n",
        "model_fr = modeling_pipeline(X_train_fr, Y_train_fr, model_regressor, param_grid)\n",
        "\n",
        "model_regressor = RandomForestRegressor(random_state=2024)\n",
        "model_de = modeling_pipeline(X_train_de, Y_train_de, model_regressor, param_grid)"
      ],
      "metadata": {
        "colab": {
          "base_uri": "https://localhost:8080/"
        },
        "id": "eyObWxq0Gytl",
        "outputId": "cc8d3bd0-e2eb-4269-f6e1-796c894440bf"
      },
      "execution_count": 37,
      "outputs": [
        {
          "output_type": "stream",
          "name": "stderr",
          "text": [
            "/usr/local/lib/python3.10/dist-packages/sklearn/model_selection/_search.py:909: DataConversionWarning: A column-vector y was passed when a 1d array was expected. Please change the shape of y to (n_samples,), for example using ravel().\n",
            "  self.best_estimator_.fit(X, y, **fit_params)\n"
          ]
        },
        {
          "output_type": "stream",
          "name": "stdout",
          "text": [
            "best_params: {'max_depth': 15, 'min_samples_leaf': 4, 'min_samples_split': 2, 'n_estimators': 100}\n",
            " MSE: 0.987878190720214\n",
            " MAE: 0.518452050289056\n",
            "Spearman correlation - default: 7.0%\n"
          ]
        },
        {
          "output_type": "stream",
          "name": "stderr",
          "text": [
            "/usr/local/lib/python3.10/dist-packages/sklearn/model_selection/_search.py:909: DataConversionWarning: A column-vector y was passed when a 1d array was expected. Please change the shape of y to (n_samples,), for example using ravel().\n",
            "  self.best_estimator_.fit(X, y, **fit_params)\n"
          ]
        },
        {
          "output_type": "stream",
          "name": "stdout",
          "text": [
            "best_params: {'max_depth': None, 'min_samples_leaf': 4, 'min_samples_split': 2, 'n_estimators': 100}\n",
            " MSE: 0.5354197519041137\n",
            " MAE: 0.47802824672598826\n",
            "Spearman correlation - default: 57.4%\n"
          ]
        }
      ]
    },
    {
      "cell_type": "code",
      "source": [
        "param_grid = {\n",
        "    'n_estimators': [100],\n",
        "    'max_depth': [None, 15, 25],\n",
        "    'min_samples_split': [2, 5],\n",
        "    'min_samples_leaf': [1, 4]\n",
        "}\n",
        "model_regressor = RandomForestRegressor(random_state=2024)\n",
        "model = modeling_pipeline(X_train, Y_train, model_regressor, param_grid)"
      ],
      "metadata": {
        "colab": {
          "base_uri": "https://localhost:8080/"
        },
        "id": "gKl1gDaPrehO",
        "outputId": "2f57ff11-00ca-4030-bb27-83fa0fede33f"
      },
      "execution_count": 46,
      "outputs": [
        {
          "output_type": "stream",
          "name": "stderr",
          "text": [
            "/usr/local/lib/python3.10/dist-packages/sklearn/model_selection/_search.py:909: DataConversionWarning: A column-vector y was passed when a 1d array was expected. Please change the shape of y to (n_samples,), for example using ravel().\n",
            "  self.best_estimator_.fit(X, y, **fit_params)\n"
          ]
        },
        {
          "output_type": "stream",
          "name": "stdout",
          "text": [
            "best_params: {'max_depth': 15, 'min_samples_leaf': 4, 'min_samples_split': 2, 'n_estimators': 100}\n",
            " MSE: 1.1493312839664984\n",
            " MAE: 0.6328470432773299\n",
            "Spearman correlation - default: 10.5%\n"
          ]
        }
      ]
    },
    {
      "cell_type": "markdown",
      "source": [
        "# 6 Bagging"
      ],
      "metadata": {
        "id": "I8CyZcHEsHms"
      }
    },
    {
      "cell_type": "code",
      "source": [
        "from sklearn.ensemble import AdaBoostRegressor, BaggingRegressor, GradientBoostingRegressor, ExtraTreesRegressor\n",
        "import xgboost as xgb"
      ],
      "metadata": {
        "id": "LJgLunIbtH_E"
      },
      "execution_count": 47,
      "outputs": []
    },
    {
      "cell_type": "code",
      "source": [
        "model_regressor = BaggingRegressor(random_state=2024)\n",
        "param_grid = {\n",
        "    'n_estimators'      : [100, 200],\n",
        "    'max_samples'       : [0.5, 0.7, 1.0],\n",
        "    'max_features'      : [0.5, 0.7, 1.0],\n",
        "    'bootstrap'         : [True],\n",
        "    'bootstrap_features': [False]\n",
        "}\n",
        "model_fr = modeling_pipeline(X_train_fr, Y_train_fr, model_regressor, param_grid)\n",
        "\n",
        "model_regressor = BaggingRegressor(random_state=2024)\n",
        "model_de = modeling_pipeline(X_train_de, Y_train_de, model_regressor, param_grid)"
      ],
      "metadata": {
        "colab": {
          "base_uri": "https://localhost:8080/"
        },
        "id": "jIFfGmYXsq3d",
        "outputId": "e1eab44c-aa76-4ac1-cea9-64bbf7d454ef"
      },
      "execution_count": 49,
      "outputs": [
        {
          "output_type": "stream",
          "name": "stderr",
          "text": [
            "/usr/local/lib/python3.10/dist-packages/sklearn/ensemble/_bagging.py:508: DataConversionWarning: A column-vector y was passed when a 1d array was expected. Please change the shape of y to (n_samples, ), for example using ravel().\n",
            "  return column_or_1d(y, warn=True)\n"
          ]
        },
        {
          "output_type": "stream",
          "name": "stdout",
          "text": [
            "best_params: {'bootstrap': True, 'bootstrap_features': False, 'max_features': 0.5, 'max_samples': 0.5, 'n_estimators': 200}\n",
            " MSE: 0.9870948515012374\n",
            " MAE: 0.5095648525197348\n",
            "Spearman correlation - default: 13.1%\n"
          ]
        },
        {
          "output_type": "stream",
          "name": "stderr",
          "text": [
            "/usr/local/lib/python3.10/dist-packages/sklearn/ensemble/_bagging.py:508: DataConversionWarning: A column-vector y was passed when a 1d array was expected. Please change the shape of y to (n_samples, ), for example using ravel().\n",
            "  return column_or_1d(y, warn=True)\n"
          ]
        },
        {
          "output_type": "stream",
          "name": "stdout",
          "text": [
            "best_params: {'bootstrap': True, 'bootstrap_features': False, 'max_features': 1.0, 'max_samples': 0.5, 'n_estimators': 100}\n",
            " MSE: 0.5560701342404257\n",
            " MAE: 0.49512243617098145\n",
            "Spearman correlation - default: 54.4%\n"
          ]
        }
      ]
    },
    {
      "cell_type": "code",
      "source": [
        "param_grid = {\n",
        "    'n_estimators'      : [100, 200],\n",
        "    'max_samples'       : [0.5, 0.7, 1.0],\n",
        "    'max_features'      : [0.5, 0.7, 1.0],\n",
        "    'bootstrap'         : [True],\n",
        "    'bootstrap_features': [False]\n",
        "}\n",
        "model_regressor = BaggingRegressor(random_state=2024)\n",
        "model = modeling_pipeline(X_train, Y_train, model_regressor, param_grid)"
      ],
      "metadata": {
        "colab": {
          "base_uri": "https://localhost:8080/"
        },
        "id": "FWJVWfUsu2AE",
        "outputId": "a0135748-85bd-45ae-fdfd-80fc3ede81d4"
      },
      "execution_count": 50,
      "outputs": [
        {
          "output_type": "stream",
          "name": "stderr",
          "text": [
            "/usr/local/lib/python3.10/dist-packages/sklearn/ensemble/_bagging.py:508: DataConversionWarning: A column-vector y was passed when a 1d array was expected. Please change the shape of y to (n_samples, ), for example using ravel().\n",
            "  return column_or_1d(y, warn=True)\n"
          ]
        },
        {
          "output_type": "stream",
          "name": "stdout",
          "text": [
            "best_params: {'bootstrap': True, 'bootstrap_features': False, 'max_features': 0.5, 'max_samples': 0.5, 'n_estimators': 200}\n",
            " MSE: 1.1335105417195022\n",
            " MAE: 0.6245125328606613\n",
            "Spearman correlation - default: 14.1%\n"
          ]
        }
      ]
    },
    {
      "cell_type": "markdown",
      "source": [
        "# 7 AdaBoost"
      ],
      "metadata": {
        "id": "pXaeL9UnxBf_"
      }
    },
    {
      "cell_type": "code",
      "source": [
        "model_regressor = AdaBoostRegressor(random_state=2024)\n",
        "param_grid = {\n",
        "    'n_estimators': [50, 100, 150],\n",
        "    'learning_rate': [0.01, 0.1, 1.0],\n",
        "}\n",
        "model_fr = modeling_pipeline(X_train_fr, Y_train_fr, model_regressor, param_grid)\n",
        "\n",
        "model_regressor = AdaBoostRegressor(random_state=2024)\n",
        "model_de = modeling_pipeline(X_train_de, Y_train_de, model_regressor, param_grid)"
      ],
      "metadata": {
        "colab": {
          "base_uri": "https://localhost:8080/"
        },
        "id": "VyxOzbCXxH7y",
        "outputId": "4f406422-9535-4e3b-eb1b-801a76ba136a"
      },
      "execution_count": 51,
      "outputs": [
        {
          "output_type": "stream",
          "name": "stderr",
          "text": [
            "/usr/local/lib/python3.10/dist-packages/sklearn/utils/validation.py:1143: DataConversionWarning: A column-vector y was passed when a 1d array was expected. Please change the shape of y to (n_samples, ), for example using ravel().\n",
            "  y = column_or_1d(y, warn=True)\n"
          ]
        },
        {
          "output_type": "stream",
          "name": "stdout",
          "text": [
            "best_params: {'learning_rate': 0.1, 'n_estimators': 100}\n",
            " MSE: 0.9996764966311997\n",
            " MAE: 0.48710182886718906\n",
            "Spearman correlation - default: 1.0%\n"
          ]
        },
        {
          "output_type": "stream",
          "name": "stderr",
          "text": [
            "/usr/local/lib/python3.10/dist-packages/sklearn/utils/validation.py:1143: DataConversionWarning: A column-vector y was passed when a 1d array was expected. Please change the shape of y to (n_samples, ), for example using ravel().\n",
            "  y = column_or_1d(y, warn=True)\n"
          ]
        },
        {
          "output_type": "stream",
          "name": "stdout",
          "text": [
            "best_params: {'learning_rate': 0.1, 'n_estimators': 100}\n",
            " MSE: 0.6264037921372445\n",
            " MAE: 0.545109722388572\n",
            "Spearman correlation - default: 55.0%\n"
          ]
        }
      ]
    },
    {
      "cell_type": "code",
      "source": [
        "param_grid = {\n",
        "    'n_estimators': [50, 100, 150],\n",
        "    'learning_rate': [0.01, 0.1, 1.0],\n",
        "}\n",
        "model_regressor = AdaBoostRegressor(random_state=2024)\n",
        "model = modeling_pipeline(X_train, Y_train, model_regressor, param_grid)"
      ],
      "metadata": {
        "colab": {
          "base_uri": "https://localhost:8080/"
        },
        "id": "REBUgwGoxMPj",
        "outputId": "75e20598-99be-473b-e875-f143079a89a3"
      },
      "execution_count": 52,
      "outputs": [
        {
          "output_type": "stream",
          "name": "stderr",
          "text": [
            "/usr/local/lib/python3.10/dist-packages/sklearn/utils/validation.py:1143: DataConversionWarning: A column-vector y was passed when a 1d array was expected. Please change the shape of y to (n_samples, ), for example using ravel().\n",
            "  y = column_or_1d(y, warn=True)\n"
          ]
        },
        {
          "output_type": "stream",
          "name": "stdout",
          "text": [
            "best_params: {'learning_rate': 0.01, 'n_estimators': 50}\n",
            " MSE: 1.104825813959231\n",
            " MAE: 0.6077906679172808\n",
            "Spearman correlation - default: 11.0%\n"
          ]
        }
      ]
    },
    {
      "cell_type": "markdown",
      "source": [
        "# 8 Gradient Boost"
      ],
      "metadata": {
        "id": "kGQsJrDax4TK"
      }
    },
    {
      "cell_type": "code",
      "source": [
        "model_regressor = GradientBoostingRegressor(random_state=2024)\n",
        "param_grid = {\n",
        "    'n_estimators': [50, 100, 150, 300],\n",
        "    'learning_rate': [0.01, 0.05, 0.1],\n",
        "}\n",
        "model_fr = modeling_pipeline(X_train_fr, Y_train_fr, model_regressor, param_grid)\n",
        "\n",
        "model_regressor = GradientBoostingRegressor(random_state=2024)\n",
        "model_de = modeling_pipeline(X_train_de, Y_train_de, model_regressor, param_grid)"
      ],
      "metadata": {
        "colab": {
          "base_uri": "https://localhost:8080/"
        },
        "id": "YyFESx4Sx_5U",
        "outputId": "6c51e43b-576e-446a-adca-3901b77099f8"
      },
      "execution_count": 53,
      "outputs": [
        {
          "output_type": "stream",
          "name": "stderr",
          "text": [
            "/usr/local/lib/python3.10/dist-packages/sklearn/ensemble/_gb.py:437: DataConversionWarning: A column-vector y was passed when a 1d array was expected. Please change the shape of y to (n_samples, ), for example using ravel().\n",
            "  y = column_or_1d(y, warn=True)\n"
          ]
        },
        {
          "output_type": "stream",
          "name": "stdout",
          "text": [
            "best_params: {'learning_rate': 0.01, 'n_estimators': 50}\n",
            " MSE: 0.9702509063251323\n",
            " MAE: 0.4610495130440358\n",
            "Spearman correlation - default: -2.3%\n"
          ]
        },
        {
          "output_type": "stream",
          "name": "stderr",
          "text": [
            "/usr/local/lib/python3.10/dist-packages/sklearn/ensemble/_gb.py:437: DataConversionWarning: A column-vector y was passed when a 1d array was expected. Please change the shape of y to (n_samples, ), for example using ravel().\n",
            "  y = column_or_1d(y, warn=True)\n"
          ]
        },
        {
          "output_type": "stream",
          "name": "stdout",
          "text": [
            "best_params: {'learning_rate': 0.05, 'n_estimators': 50}\n",
            " MSE: 0.5815684914213218\n",
            " MAE: 0.5014346516325487\n",
            "Spearman correlation - default: 55.3%\n"
          ]
        }
      ]
    },
    {
      "cell_type": "code",
      "source": [
        "param_grid = {\n",
        "    'n_estimators': [50, 100, 150, 300],\n",
        "    'learning_rate': [0.01, 0.05, 0.1],\n",
        "}\n",
        "model_regressor = GradientBoostingRegressor(random_state=2024)\n",
        "model = modeling_pipeline(X_train, Y_train, model_regressor, param_grid)"
      ],
      "metadata": {
        "colab": {
          "base_uri": "https://localhost:8080/"
        },
        "id": "EDBM7wqcyC3w",
        "outputId": "ff95f1aa-c2e7-4016-d74c-3fdba19b6e52"
      },
      "execution_count": 54,
      "outputs": [
        {
          "output_type": "stream",
          "name": "stderr",
          "text": [
            "/usr/local/lib/python3.10/dist-packages/sklearn/ensemble/_gb.py:437: DataConversionWarning: A column-vector y was passed when a 1d array was expected. Please change the shape of y to (n_samples, ), for example using ravel().\n",
            "  y = column_or_1d(y, warn=True)\n"
          ]
        },
        {
          "output_type": "stream",
          "name": "stdout",
          "text": [
            "best_params: {'learning_rate': 0.01, 'n_estimators': 50}\n",
            " MSE: 1.102957901463703\n",
            " MAE: 0.5974752622768578\n",
            "Spearman correlation - default: 17.2%\n"
          ]
        }
      ]
    },
    {
      "cell_type": "markdown",
      "source": [
        "# 9 Extra Tree"
      ],
      "metadata": {
        "id": "Mz3KA2-hyN_-"
      }
    },
    {
      "cell_type": "code",
      "source": [
        "model_regressor = ExtraTreesRegressor(random_state=2024)\n",
        "param_grid = {\n",
        "    'n_estimators': [50, 100, 150, 300, 500],\n",
        "    'max_depth': [None, 10, 20],\n",
        "}\n",
        "model_fr = modeling_pipeline(X_train_fr, Y_train_fr, model_regressor, param_grid)\n",
        "\n",
        "model_regressor = ExtraTreesRegressor(random_state=2024)\n",
        "model_de = modeling_pipeline(X_train_de, Y_train_de, model_regressor, param_grid)"
      ],
      "metadata": {
        "colab": {
          "base_uri": "https://localhost:8080/"
        },
        "id": "wsfqt7AhyQ7U",
        "outputId": "db9a3706-de1c-457e-df8a-2186affacfc2"
      },
      "execution_count": 55,
      "outputs": [
        {
          "output_type": "stream",
          "name": "stderr",
          "text": [
            "/usr/local/lib/python3.10/dist-packages/sklearn/model_selection/_search.py:909: DataConversionWarning: A column-vector y was passed when a 1d array was expected. Please change the shape of y to (n_samples,), for example using ravel().\n",
            "  self.best_estimator_.fit(X, y, **fit_params)\n"
          ]
        },
        {
          "output_type": "stream",
          "name": "stdout",
          "text": [
            "best_params: {'max_depth': 20, 'n_estimators': 100}\n",
            " MSE: 1.0299490327632566\n",
            " MAE: 0.5581992411538986\n",
            "Spearman correlation - default: 6.4%\n"
          ]
        },
        {
          "output_type": "stream",
          "name": "stderr",
          "text": [
            "/usr/local/lib/python3.10/dist-packages/sklearn/model_selection/_search.py:909: DataConversionWarning: A column-vector y was passed when a 1d array was expected. Please change the shape of y to (n_samples,), for example using ravel().\n",
            "  self.best_estimator_.fit(X, y, **fit_params)\n"
          ]
        },
        {
          "output_type": "stream",
          "name": "stdout",
          "text": [
            "best_params: {'max_depth': None, 'n_estimators': 500}\n",
            " MSE: 0.5415273246472665\n",
            " MAE: 0.4749256019357339\n",
            "Spearman correlation - default: 59.5%\n"
          ]
        }
      ]
    },
    {
      "cell_type": "code",
      "source": [
        "param_grid = {\n",
        "    'n_estimators': [50, 100, 150, 300, 500],\n",
        "    'max_depth': [None, 10, 20],\n",
        "}\n",
        "model_regressor = ExtraTreesRegressor(random_state=2024)\n",
        "model = modeling_pipeline(X_train, Y_train, model_regressor, param_grid)"
      ],
      "metadata": {
        "colab": {
          "base_uri": "https://localhost:8080/"
        },
        "id": "JrsLzrH4ySwZ",
        "outputId": "dc21421c-5bee-4376-e297-d3d77ac3589f"
      },
      "execution_count": 56,
      "outputs": [
        {
          "output_type": "stream",
          "name": "stderr",
          "text": [
            "/usr/local/lib/python3.10/dist-packages/sklearn/model_selection/_search.py:909: DataConversionWarning: A column-vector y was passed when a 1d array was expected. Please change the shape of y to (n_samples,), for example using ravel().\n",
            "  self.best_estimator_.fit(X, y, **fit_params)\n"
          ]
        },
        {
          "output_type": "stream",
          "name": "stdout",
          "text": [
            "best_params: {'max_depth': 10, 'n_estimators': 500}\n",
            " MSE: 1.093453106619794\n",
            " MAE: 0.6041149929140268\n",
            "Spearman correlation - default: 26.8%\n"
          ]
        }
      ]
    },
    {
      "cell_type": "markdown",
      "source": [
        "# 10 XGB"
      ],
      "metadata": {
        "id": "cJ8byuS3ybsv"
      }
    },
    {
      "cell_type": "code",
      "source": [
        "model_regressor = xgb.XGBRegressor(random_state=2024)\n",
        "param_grid = {\n",
        "    'n_estimators': [50, 100, 150],\n",
        "    'learning_rate': [0.01, 0.1, 1.0],\n",
        "    'max_depth': [3, 5, 7],\n",
        "}\n",
        "model_fr = modeling_pipeline(X_train_fr, Y_train_fr, model_regressor, param_grid)\n",
        "\n",
        "model_regressor = xgb.XGBRegressor(random_state=2024)\n",
        "model_de = modeling_pipeline(X_train_de, Y_train_de, model_regressor, param_grid)"
      ],
      "metadata": {
        "colab": {
          "base_uri": "https://localhost:8080/"
        },
        "id": "jPlhSnztyeRM",
        "outputId": "17e9dc6a-e94d-4d47-967a-88f54d592ca8"
      },
      "execution_count": 57,
      "outputs": [
        {
          "output_type": "stream",
          "name": "stdout",
          "text": [
            "best_params: {'learning_rate': 0.01, 'max_depth': 3, 'n_estimators': 50}\n",
            " MSE: 0.974274317321525\n",
            " MAE: 0.4646354567317139\n",
            "Spearman correlation - default: -5.8%\n",
            "best_params: {'learning_rate': 0.01, 'max_depth': 3, 'n_estimators': 150}\n",
            " MSE: 0.5374254449517155\n",
            " MAE: 0.474040847024263\n",
            "Spearman correlation - default: 58.4%\n"
          ]
        }
      ]
    },
    {
      "cell_type": "code",
      "source": [
        "param_grid = {\n",
        "    'n_estimators': [50, 100, 150],\n",
        "    'learning_rate': [0.01, 0.1, 1.0],\n",
        "    'max_depth': [3, 5, 7],\n",
        "}\n",
        "model_regressor = xgb.XGBRegressor(random_state=2024)\n",
        "model = modeling_pipeline(X_train, Y_train, model_regressor, param_grid)"
      ],
      "metadata": {
        "colab": {
          "base_uri": "https://localhost:8080/"
        },
        "id": "vjuqGWs4ygQj",
        "outputId": "2f998784-f900-429e-d85a-de87679e3bdf"
      },
      "execution_count": 58,
      "outputs": [
        {
          "output_type": "stream",
          "name": "stdout",
          "text": [
            "best_params: {'learning_rate': 0.01, 'max_depth': 3, 'n_estimators': 50}\n",
            " MSE: 1.1023341942163798\n",
            " MAE: 0.5958034559405495\n",
            "Spearman correlation - default: 10.1%\n"
          ]
        }
      ]
    },
    {
      "cell_type": "markdown",
      "source": [
        "# Submission ToolKit"
      ],
      "metadata": {
        "id": "F4UM48pSpKd8"
      }
    },
    {
      "cell_type": "code",
      "source": [
        "# Y_test_fr[:] = model.predict(X_test_fr)\n",
        "\n",
        "# Y_test_fr.to_csv('benchmark_qrt_fr.csv', header = True, index = True)"
      ],
      "metadata": {
        "id": "GB4t1R2ipCAy"
      },
      "execution_count": 59,
      "outputs": []
    }
  ]
}